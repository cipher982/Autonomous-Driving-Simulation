{
 "cells": [
  {
   "cell_type": "code",
   "execution_count": null,
   "metadata": {
    "collapsed": true
   },
   "outputs": [],
   "source": [
    "import csv\n",
    "import cv2\n",
    "import numpy as np\n",
    "import matplotlib.pyplot as plt\n",
    "import pickle\n",
    "import os\n",
    "%matplotlib inline\n",
    "\n",
    "lines = []\n",
    "with open('C:\\\\big\\p3\\\\data\\\\driving_log.csv') as csvfile:\n",
    "    reader = csv.reader(csvfile)\n",
    "    for line in reader:\n",
    "        lines.append(line)\n",
    "\n",
    "images = []\n",
    "measurements = []\n",
    "data_folder = 'C:\\\\big\\\\p3\\\\data\\\\'\n",
    "counter = 1\n",
    "for line in lines:\n",
    "    steering   = float(line[3])\n",
    "    img_center = line[0]\n",
    "    img_left   = line[1]\n",
    "    img_right  = line[2]\n",
    "\n",
    "    if counter % 3 == 0:\n",
    "        center = cv2.imread(data_folder + img_center)\n",
    "        center = cv2.cvtColor(center, cv2.COLOR_BGR2RGB)\n",
    "        images.append(center)\n",
    "        measurements.append(steering)\n",
    "        images.append(np.fliplr(center))\n",
    "        measurements.append(steering * -1.0)\n",
    "\n",
    "\n",
    "    left   = cv2.imread(data_folder + img_left)\n",
    "    left   = cv2.cvtColor(left, cv2.COLOR_BGR2RGB)\n",
    "    images.append(left)\n",
    "    measurements.append(steering + 0.2)\n",
    "\n",
    "    right  = cv2.imread(data_folder + img_right)\n",
    "    right  = cv2.cvtColor(right, cv2.COLOR_BGR2RGB)\n",
    "    images.append(right)\n",
    "    measurements.append(steering - 0.2)\n",
    "    \n",
    "    if counter % 2 == 0:\n",
    "        #print('even')\n",
    "        images.append(np.fliplr(left))\n",
    "        images.append(np.fliplr(right))\n",
    "        measurements.append((steering + 0.1) * -2.0)\n",
    "        measurements.append((steering - 0.1) * -2.0)\n",
    "    #else:\n",
    "        #print('odd')\n",
    "\n",
    "    counter = counter + 1\n",
    "    #steering = float(line[3])\n",
    "\n",
    "np.save('images_v2', images)\n",
    "np.save('measurements_v2', measurements)\n",
    "#np.save('valid_2', x_valid2)"
   ]
  },
  {
   "cell_type": "code",
   "execution_count": null,
   "metadata": {},
   "outputs": [],
   "source": [
    "numb = 410\n",
    "plt.imshow(images[numb])\n",
    "plt.show()\n",
    "print(measurements[numb])"
   ]
  },
  {
   "cell_type": "code",
   "execution_count": null,
   "metadata": {
    "collapsed": true
   },
   "outputs": [],
   "source": []
  }
 ],
 "metadata": {
  "kernelspec": {
   "display_name": "Python 3",
   "language": "python",
   "name": "python3"
  },
  "language_info": {
   "codemirror_mode": {
    "name": "ipython",
    "version": 3
   },
   "file_extension": ".py",
   "mimetype": "text/x-python",
   "name": "python",
   "nbconvert_exporter": "python",
   "pygments_lexer": "ipython3",
   "version": "3.5.3"
  }
 },
 "nbformat": 4,
 "nbformat_minor": 2
}
