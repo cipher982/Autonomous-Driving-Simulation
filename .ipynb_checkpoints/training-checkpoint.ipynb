{
 "cells": [
  {
   "cell_type": "code",
   "execution_count": null,
   "metadata": {
    "collapsed": true
   },
   "outputs": [],
   "source": [
    "import csv\n",
    "import cv2\n",
    "import numpy as np\n",
    "import matplotlib.pyplot as plt\n",
    "import pickle\n",
    "import os\n",
    "%matplotlib inline\n",
    "\n",
    "\n",
    "# Load saved data\n",
    "os.chdir('C:\\\\Users\\\\drose\\\\Google Drive\\\\mooc\\\\Udacity\\\\sdc\\\\p3\\\\Autonomous-Driving-Simulation')    \n",
    "images        = np.load('images_v2.npy')\n",
    "measurements  = np.load('measurements_v2.npy')\n"
   ]
  },
  {
   "cell_type": "code",
   "execution_count": null,
   "metadata": {},
   "outputs": [],
   "source": [
    "plt.imshow(images[0])\n",
    "print(np.shape(images[2]))\n",
    "\n",
    "x_train = np.array(images)\n",
    "y_train = np.array(measurements)\n",
    "\n",
    "print('x_train shape: ',np.shape(x_train))\n",
    "print('y_train shape: ',np.shape(y_train))\n",
    "\n",
    "print('The average steering angle in the dataset is: ',np.mean(y_train))"
   ]
  },
  {
   "cell_type": "code",
   "execution_count": null,
   "metadata": {},
   "outputs": [],
   "source": [
    "from keras.models import Sequential\n",
    "from keras.models import save_model\n",
    "from keras.layers import Flatten,Dense, Activation, Dropout, Convolution2D, MaxPooling2D, Cropping2D\n",
    "from keras.layers import Lambda, Input, Reshape, AveragePooling2D\n",
    "from keras import optimizers\n",
    "from keras.callbacks import History \n",
    "history = History()\n",
    "import h5py\n",
    "import keras\n",
    "from keras.backend import tf as ktf\n",
    "\n",
    "\n",
    "model = Sequential()\n",
    "#model.add(Reshape((80, 160), input_shape=(160,320)))\n",
    "# Resize Images\n",
    "#model.add(Lambda(lambda x: ktf.image.resize_images(x, (80, 160)), input_shape=(160, 320, 3), output_shape=(80, 160,3)))\n",
    "model.add(AveragePooling2D(pool_size=(2, 2), strides=2, data_format='channels_last', input_shape=(160,320,3)))\n",
    "# Normalize values\n",
    "model.add(Lambda(lambda x: x/255 - .5))\n",
    "model.add(Cropping2D(cropping=((25, 15), (0, 0)), input_shape=(80, 160, 3)))\n",
    "#model.add(Convolution2D(32,1,1))\n",
    "#model.add(Activation('relu'))\n",
    "model.add(Convolution2D(16,1,1))\n",
    "model.add(Activation('relu'))\n",
    "model.add(MaxPooling2D((2,2)))\n",
    "model.add(Dropout(0.5))\n",
    "#model.add(Activation('relu'))\n",
    "model.add(Flatten())\n",
    "model.add(Dense(16))\n",
    "#model.add(Activation('relu'))\n",
    "model.add(Dropout(0.7))\n",
    "model.add(Dense(10))\n",
    "model.add(Dense(1))\n",
    "#model.add(Activation('tanh'))\n",
    "\n",
    "#sgd = optimizers.SGD(lr=0.0001, decay=1e-6, momentum=0.9, nesterov=True)\n",
    "opt = keras.optimizers.Adam(lr=0.0003, beta_1=0.9, beta_2=0.999, epsilon=1e-08, decay=0.0)\n",
    "model.compile(loss='mse', optimizer=opt)\n",
    "model.fit(x_train, y_train, validation_split = 0.3, shuffle=True, batch_size=32, epochs=8,callbacks=[history])    \n",
    "\n",
    "model.save('train_v14.h5')"
   ]
  },
  {
   "cell_type": "code",
   "execution_count": null,
   "metadata": {},
   "outputs": [],
   "source": [
    "from skimage import io, color, exposure, transform\n",
    "\"\"\"\n",
    "IMG_SIZE = 32\n",
    "images_32 = []\n",
    "for image in x_train:\n",
    "    img = transform.resize(image, (32, 32))\n",
    "    images_32.append(img)\"\"\"\n",
    "\n",
    "plt.hist(y_train, bins = 40)"
   ]
  },
  {
   "cell_type": "markdown",
   "metadata": {},
   "source": [
    "## Train Keras"
   ]
  },
  {
   "cell_type": "code",
   "execution_count": null,
   "metadata": {},
   "outputs": [],
   "source": [
    "history.history['loss'][1:]"
   ]
  },
  {
   "cell_type": "code",
   "execution_count": null,
   "metadata": {},
   "outputs": [],
   "source": [
    "# summarize history for accuracy\n",
    "plt.plot(history.history['loss'][1:])\n",
    "plt.plot(history.history['val_loss'][1:])\n",
    "plt.title('model accuracy')\n",
    "plt.ylabel('loss')\n",
    "plt.xlabel('epoch')\n",
    "plt.legend(['train', 'test'], loc='upper left')\n",
    "plt.show()"
   ]
  },
  {
   "cell_type": "code",
   "execution_count": null,
   "metadata": {
    "collapsed": true
   },
   "outputs": [],
   "source": []
  }
 ],
 "metadata": {
  "celltoolbar": "Raw Cell Format",
  "kernelspec": {
   "display_name": "Python 3",
   "language": "python",
   "name": "python3"
  },
  "language_info": {
   "codemirror_mode": {
    "name": "ipython",
    "version": 3
   },
   "file_extension": ".py",
   "mimetype": "text/x-python",
   "name": "python",
   "nbconvert_exporter": "python",
   "pygments_lexer": "ipython3",
   "version": "3.5.3"
  }
 },
 "nbformat": 4,
 "nbformat_minor": 2
}
